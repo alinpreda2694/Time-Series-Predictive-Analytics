{
 "cells": [
  {
   "cell_type": "code",
   "execution_count": 2,
   "metadata": {
    "code_folding": [
     0
    ]
   },
   "outputs": [],
   "source": [
    "################################################################################################################\n",
    "\n",
    "import os\n",
    "import pandas as pd "
   ]
  },
  {
   "cell_type": "code",
   "execution_count": 3,
   "metadata": {
    "code_folding": []
   },
   "outputs": [],
   "source": [
    "################################################################################################################\n",
    "\n",
    "root = r\"C:\\Users\\aleen\\Desktop\\Master Thesis\\Data\\amsterdam\\calendar\\minis\"\n",
    "listdir = os.listdir(root) # returns list\n",
    "os.chdir(root)"
   ]
  },
  {
   "cell_type": "code",
   "execution_count": 9,
   "metadata": {
    "scrolled": true
   },
   "outputs": [
    {
     "data": {
      "text/plain": [
       "50"
      ]
     },
     "execution_count": 9,
     "metadata": {},
     "output_type": "execute_result"
    }
   ],
   "source": [
    "len(listdir)"
   ]
  },
  {
   "cell_type": "code",
   "execution_count": 5,
   "metadata": {},
   "outputs": [],
   "source": [
    "################################################################################################################\n",
    "\n",
    "def walking_directory_tree(directory_path):\n",
    "    '''\n",
    "    Walking a directory tree and printing the names of the directories and files.\n",
    "    Returns a tuple of (list of dirnames, list of filenames).\n",
    "    ''' \n",
    "    # print(f'Found directory: {directory_path}') \n",
    "    \n",
    "    dirnames_list = []\n",
    "    filenames_list = []\n",
    "    for dirpath, dirnames, files in os.walk('.'):\n",
    "        for folder_name in dirnames:\n",
    "            dirnames_list.append(folder_name)\n",
    "        for file_name in files:\n",
    "            filenames_list.append(file_name)\n",
    "    return(dirnames_list, filenames_list)\n",
    "\n",
    "walking_directory_tree(root)\n",
    "\n",
    "################################################################################################################\n",
    "\n",
    "def concatenate_df(root, filetype, filename):\n",
    "    '''\n",
    "    Ex input: (r\"E:\\Airbnb\\Data\\amsterdam\\calendar\\minis\", \"calendar\", \"calendar.csv\")\n",
    "    '''\n",
    "    # List of folders to parse \n",
    "    listdir = walking_directory_tree(root)[0]\n",
    "    \n",
    "    dict = {} # For creating names for our datafranes \n",
    "    for i in range(len(listdir)):\n",
    "        dict[\"df{0}\".format(i)] = pd.read_csv(root + \"\\\\\" + listdir[i] + \"\\\\\" + filename)\n",
    "    \n",
    "    # We can perhaps extend this function later. \n",
    "    if filetype == \"calendar\":\n",
    "        # Need to get rid of irrelevant columns. \n",
    "        for df in dict.values():\n",
    "            df.drop(columns=[\"count\",\"std\",\"min\",\"25%\",\"50%\",\"75%\",\"max\"], inplace=True)\n",
    "            # Also, the date needs to be changed to datetime. \n",
    "            df[\"date\"] = pd.to_datetime(df[\"date\"]) # If not already datetime. \n",
    "            \n",
    "    # List to hold intermediate dataframes.\n",
    "    lst = []\n",
    "    for df in dict.values():\n",
    "        df.set_index('date', inplace=True) # Vezi aici!\n",
    "        lst.append(df)\n",
    "        \n",
    "    for i in range(len(lst)):\n",
    "        lst[i] = lst[i].rename(columns={'mean':str(listdir[i])})\n",
    "    \n",
    "    concat_calendarday = pd.concat(lst, axis=1)\n",
    "    concat_calendarday['average_price'] = concat_calendarday.mean(axis=1)\n",
    "    concat_calendarday['date'] = concat_calendarday.index\n",
    "    concat_calendarday[\"date\"] = pd.to_datetime(concat_calendarday[\"date\"])\n",
    "    calendar = concat_calendarday[['average_price','date']]\n",
    "    \n",
    "    return (calendar)"
   ]
  },
  {
   "cell_type": "code",
   "execution_count": 6,
   "metadata": {},
   "outputs": [],
   "source": [
    "calendar = concatenate_df(root, \"calendar\", \"calendar.csv\")"
   ]
  },
  {
   "cell_type": "code",
   "execution_count": 125,
   "metadata": {},
   "outputs": [],
   "source": [
    "calendar.to_csv(root + \"\\\\\" + \"amsterdam_calendar.csv\")"
   ]
  },
  {
   "cell_type": "code",
   "execution_count": 34,
   "metadata": {},
   "outputs": [],
   "source": [
    "test1 = pd.read_csv(r\"C:\\Users\\aleen\\Desktop\\Master Thesis\\calendar.csv\")"
   ]
  },
  {
   "cell_type": "code",
   "execution_count": 35,
   "metadata": {},
   "outputs": [
    {
     "data": {
      "text/html": [
       "<div>\n",
       "<style scoped>\n",
       "    .dataframe tbody tr th:only-of-type {\n",
       "        vertical-align: middle;\n",
       "    }\n",
       "\n",
       "    .dataframe tbody tr th {\n",
       "        vertical-align: top;\n",
       "    }\n",
       "\n",
       "    .dataframe thead th {\n",
       "        text-align: right;\n",
       "    }\n",
       "</style>\n",
       "<table border=\"1\" class=\"dataframe\">\n",
       "  <thead>\n",
       "    <tr style=\"text-align: right;\">\n",
       "      <th></th>\n",
       "      <th>listing_id</th>\n",
       "      <th>date</th>\n",
       "      <th>available</th>\n",
       "      <th>price</th>\n",
       "      <th>adjusted_price</th>\n",
       "      <th>minimum_nights</th>\n",
       "      <th>maximum_nights</th>\n",
       "    </tr>\n",
       "  </thead>\n",
       "  <tbody>\n",
       "    <tr>\n",
       "      <th>5685942</th>\n",
       "      <td>34713050</td>\n",
       "      <td>2020-05-25</td>\n",
       "      <td>f</td>\n",
       "      <td>$160.00</td>\n",
       "      <td>$160.00</td>\n",
       "      <td>8</td>\n",
       "      <td>1125</td>\n",
       "    </tr>\n",
       "  </tbody>\n",
       "</table>\n",
       "</div>"
      ],
      "text/plain": [
       "         listing_id        date available    price adjusted_price  \\\n",
       "5685942    34713050  2020-05-25         f  $160.00        $160.00   \n",
       "\n",
       "         minimum_nights  maximum_nights  \n",
       "5685942               8            1125  "
      ]
     },
     "execution_count": 35,
     "metadata": {},
     "output_type": "execute_result"
    }
   ],
   "source": [
    "test1.sample()"
   ]
  },
  {
   "cell_type": "code",
   "execution_count": 20,
   "metadata": {
    "collapsed": true
   },
   "outputs": [
    {
     "name": "stderr",
     "output_type": "stream",
     "text": [
      "C:\\Users\\aleen\\AppData\\Local\\Continuum\\anaconda3\\lib\\site-packages\\IPython\\core\\interactiveshell.py:3049: DtypeWarning: Columns (43,61,62) have mixed types. Specify dtype option on import or set low_memory=False.\n",
      "  interactivity=interactivity, compiler=compiler, result=result)\n"
     ]
    },
    {
     "data": {
      "text/html": [
       "<div>\n",
       "<style scoped>\n",
       "    .dataframe tbody tr th:only-of-type {\n",
       "        vertical-align: middle;\n",
       "    }\n",
       "\n",
       "    .dataframe tbody tr th {\n",
       "        vertical-align: top;\n",
       "    }\n",
       "\n",
       "    .dataframe thead th {\n",
       "        text-align: right;\n",
       "    }\n",
       "</style>\n",
       "<table border=\"1\" class=\"dataframe\">\n",
       "  <thead>\n",
       "    <tr style=\"text-align: right;\">\n",
       "      <th></th>\n",
       "      <th>id</th>\n",
       "      <th>listing_url</th>\n",
       "      <th>scrape_id</th>\n",
       "      <th>last_scraped</th>\n",
       "      <th>name</th>\n",
       "      <th>summary</th>\n",
       "      <th>space</th>\n",
       "      <th>description</th>\n",
       "      <th>experiences_offered</th>\n",
       "      <th>neighborhood_overview</th>\n",
       "      <th>...</th>\n",
       "      <th>instant_bookable</th>\n",
       "      <th>is_business_travel_ready</th>\n",
       "      <th>cancellation_policy</th>\n",
       "      <th>require_guest_profile_picture</th>\n",
       "      <th>require_guest_phone_verification</th>\n",
       "      <th>calculated_host_listings_count</th>\n",
       "      <th>calculated_host_listings_count_entire_homes</th>\n",
       "      <th>calculated_host_listings_count_private_rooms</th>\n",
       "      <th>calculated_host_listings_count_shared_rooms</th>\n",
       "      <th>reviews_per_month</th>\n",
       "    </tr>\n",
       "  </thead>\n",
       "  <tbody>\n",
       "    <tr>\n",
       "      <th>5759</th>\n",
       "      <td>14819536</td>\n",
       "      <td>https://www.airbnb.com/rooms/14819536</td>\n",
       "      <td>20191109094909</td>\n",
       "      <td>2019-11-09</td>\n",
       "      <td>Habitación doble en el centro de Barcelona!</td>\n",
       "      <td>Habitacion de matrimonio en el centro de Barce...</td>\n",
       "      <td>NaN</td>\n",
       "      <td>Habitacion de matrimonio en el centro de Barce...</td>\n",
       "      <td>none</td>\n",
       "      <td>Es un barrio muy céntrico y distracción no fal...</td>\n",
       "      <td>...</td>\n",
       "      <td>t</td>\n",
       "      <td>f</td>\n",
       "      <td>flexible</td>\n",
       "      <td>f</td>\n",
       "      <td>f</td>\n",
       "      <td>1</td>\n",
       "      <td>0</td>\n",
       "      <td>1</td>\n",
       "      <td>0</td>\n",
       "      <td>0.70</td>\n",
       "    </tr>\n",
       "    <tr>\n",
       "      <th>134</th>\n",
       "      <td>281978</td>\n",
       "      <td>https://www.airbnb.com/rooms/281978</td>\n",
       "      <td>20191109094909</td>\n",
       "      <td>2019-11-09</td>\n",
       "      <td>Big Private Room - Paseo de Gracia</td>\n",
       "      <td>DO NOT USE THE RED BUTTON \"REQUEST TO BOOK\".  ...</td>\n",
       "      <td>PLEASE CONTACT ME BEFORE BOOKING It's a big pr...</td>\n",
       "      <td>DO NOT USE THE RED BUTTON \"REQUEST TO BOOK\".  ...</td>\n",
       "      <td>none</td>\n",
       "      <td>NaN</td>\n",
       "      <td>...</td>\n",
       "      <td>f</td>\n",
       "      <td>f</td>\n",
       "      <td>strict_14_with_grace_period</td>\n",
       "      <td>f</td>\n",
       "      <td>f</td>\n",
       "      <td>6</td>\n",
       "      <td>0</td>\n",
       "      <td>6</td>\n",
       "      <td>0</td>\n",
       "      <td>1.28</td>\n",
       "    </tr>\n",
       "    <tr>\n",
       "      <th>13649</th>\n",
       "      <td>31558714</td>\n",
       "      <td>https://www.airbnb.com/rooms/31558714</td>\n",
       "      <td>20191109094909</td>\n",
       "      <td>2019-11-09</td>\n",
       "      <td>Modern Studio,Sleeps3,10min Sagrada Familia Te...</td>\n",
       "      <td>Welcome to my lovely, modern apartment - the p...</td>\n",
       "      <td>The studio is spacious and relaxing, the ideal...</td>\n",
       "      <td>Welcome to my lovely, modern apartment - the p...</td>\n",
       "      <td>none</td>\n",
       "      <td>The apartment is located in Gràcia, which is a...</td>\n",
       "      <td>...</td>\n",
       "      <td>t</td>\n",
       "      <td>f</td>\n",
       "      <td>flexible</td>\n",
       "      <td>f</td>\n",
       "      <td>f</td>\n",
       "      <td>1</td>\n",
       "      <td>1</td>\n",
       "      <td>0</td>\n",
       "      <td>0</td>\n",
       "      <td>2.37</td>\n",
       "    </tr>\n",
       "    <tr>\n",
       "      <th>3209</th>\n",
       "      <td>6724628</td>\n",
       "      <td>https://www.airbnb.com/rooms/6724628</td>\n",
       "      <td>20191109094909</td>\n",
       "      <td>2019-11-09</td>\n",
       "      <td>Gracia Deluxe</td>\n",
       "      <td>This 3-bedroom apartment in the heart of Barce...</td>\n",
       "      <td>- 3 bedrooms with wide, comfortable beds - Ful...</td>\n",
       "      <td>This 3-bedroom apartment in the heart of Barce...</td>\n",
       "      <td>none</td>\n",
       "      <td>Long the residence of small industries and cra...</td>\n",
       "      <td>...</td>\n",
       "      <td>t</td>\n",
       "      <td>f</td>\n",
       "      <td>moderate</td>\n",
       "      <td>f</td>\n",
       "      <td>f</td>\n",
       "      <td>77</td>\n",
       "      <td>77</td>\n",
       "      <td>0</td>\n",
       "      <td>0</td>\n",
       "      <td>1.48</td>\n",
       "    </tr>\n",
       "    <tr>\n",
       "      <th>15791</th>\n",
       "      <td>34993045</td>\n",
       "      <td>https://www.airbnb.com/rooms/34993045</td>\n",
       "      <td>20191109094909</td>\n",
       "      <td>2019-11-09</td>\n",
       "      <td>Penthouse with private and fantastic Terrace</td>\n",
       "      <td>Renovated apartment with beautiful terrace. It...</td>\n",
       "      <td>Apartment of 64 m2     Living/dining room with...</td>\n",
       "      <td>Renovated apartment with beautiful terrace. It...</td>\n",
       "      <td>none</td>\n",
       "      <td>Apartment located near the Sagrada Familia and...</td>\n",
       "      <td>...</td>\n",
       "      <td>f</td>\n",
       "      <td>f</td>\n",
       "      <td>strict_14_with_grace_period</td>\n",
       "      <td>f</td>\n",
       "      <td>f</td>\n",
       "      <td>30</td>\n",
       "      <td>30</td>\n",
       "      <td>0</td>\n",
       "      <td>0</td>\n",
       "      <td>NaN</td>\n",
       "    </tr>\n",
       "  </tbody>\n",
       "</table>\n",
       "<p>5 rows × 106 columns</p>\n",
       "</div>"
      ],
      "text/plain": [
       "             id                            listing_url       scrape_id  \\\n",
       "5759   14819536  https://www.airbnb.com/rooms/14819536  20191109094909   \n",
       "134      281978    https://www.airbnb.com/rooms/281978  20191109094909   \n",
       "13649  31558714  https://www.airbnb.com/rooms/31558714  20191109094909   \n",
       "3209    6724628   https://www.airbnb.com/rooms/6724628  20191109094909   \n",
       "15791  34993045  https://www.airbnb.com/rooms/34993045  20191109094909   \n",
       "\n",
       "      last_scraped                                               name  \\\n",
       "5759    2019-11-09        Habitación doble en el centro de Barcelona!   \n",
       "134     2019-11-09                 Big Private Room - Paseo de Gracia   \n",
       "13649   2019-11-09  Modern Studio,Sleeps3,10min Sagrada Familia Te...   \n",
       "3209    2019-11-09                                      Gracia Deluxe   \n",
       "15791   2019-11-09       Penthouse with private and fantastic Terrace   \n",
       "\n",
       "                                                 summary  \\\n",
       "5759   Habitacion de matrimonio en el centro de Barce...   \n",
       "134    DO NOT USE THE RED BUTTON \"REQUEST TO BOOK\".  ...   \n",
       "13649  Welcome to my lovely, modern apartment - the p...   \n",
       "3209   This 3-bedroom apartment in the heart of Barce...   \n",
       "15791  Renovated apartment with beautiful terrace. It...   \n",
       "\n",
       "                                                   space  \\\n",
       "5759                                                 NaN   \n",
       "134    PLEASE CONTACT ME BEFORE BOOKING It's a big pr...   \n",
       "13649  The studio is spacious and relaxing, the ideal...   \n",
       "3209   - 3 bedrooms with wide, comfortable beds - Ful...   \n",
       "15791  Apartment of 64 m2     Living/dining room with...   \n",
       "\n",
       "                                             description experiences_offered  \\\n",
       "5759   Habitacion de matrimonio en el centro de Barce...                none   \n",
       "134    DO NOT USE THE RED BUTTON \"REQUEST TO BOOK\".  ...                none   \n",
       "13649  Welcome to my lovely, modern apartment - the p...                none   \n",
       "3209   This 3-bedroom apartment in the heart of Barce...                none   \n",
       "15791  Renovated apartment with beautiful terrace. It...                none   \n",
       "\n",
       "                                   neighborhood_overview  ...  \\\n",
       "5759   Es un barrio muy céntrico y distracción no fal...  ...   \n",
       "134                                                  NaN  ...   \n",
       "13649  The apartment is located in Gràcia, which is a...  ...   \n",
       "3209   Long the residence of small industries and cra...  ...   \n",
       "15791  Apartment located near the Sagrada Familia and...  ...   \n",
       "\n",
       "      instant_bookable is_business_travel_ready          cancellation_policy  \\\n",
       "5759                 t                        f                     flexible   \n",
       "134                  f                        f  strict_14_with_grace_period   \n",
       "13649                t                        f                     flexible   \n",
       "3209                 t                        f                     moderate   \n",
       "15791                f                        f  strict_14_with_grace_period   \n",
       "\n",
       "      require_guest_profile_picture require_guest_phone_verification  \\\n",
       "5759                              f                                f   \n",
       "134                               f                                f   \n",
       "13649                             f                                f   \n",
       "3209                              f                                f   \n",
       "15791                             f                                f   \n",
       "\n",
       "       calculated_host_listings_count  \\\n",
       "5759                                1   \n",
       "134                                 6   \n",
       "13649                               1   \n",
       "3209                               77   \n",
       "15791                              30   \n",
       "\n",
       "       calculated_host_listings_count_entire_homes  \\\n",
       "5759                                             0   \n",
       "134                                              0   \n",
       "13649                                            1   \n",
       "3209                                            77   \n",
       "15791                                           30   \n",
       "\n",
       "      calculated_host_listings_count_private_rooms  \\\n",
       "5759                                             1   \n",
       "134                                              6   \n",
       "13649                                            0   \n",
       "3209                                             0   \n",
       "15791                                            0   \n",
       "\n",
       "       calculated_host_listings_count_shared_rooms  reviews_per_month  \n",
       "5759                                             0               0.70  \n",
       "134                                              0               1.28  \n",
       "13649                                            0               2.37  \n",
       "3209                                             0               1.48  \n",
       "15791                                            0                NaN  \n",
       "\n",
       "[5 rows x 106 columns]"
      ]
     },
     "execution_count": 20,
     "metadata": {},
     "output_type": "execute_result"
    }
   ],
   "source": [
    "test = pd.read_csv(r\"C:\\Users\\aleen\\Desktop\\Master Thesis\\listings.csv\")\n",
    "test.sample(5)"
   ]
  },
  {
   "cell_type": "code",
   "execution_count": 30,
   "metadata": {},
   "outputs": [
    {
     "data": {
      "text/html": [
       "<div>\n",
       "<style scoped>\n",
       "    .dataframe tbody tr th:only-of-type {\n",
       "        vertical-align: middle;\n",
       "    }\n",
       "\n",
       "    .dataframe tbody tr th {\n",
       "        vertical-align: top;\n",
       "    }\n",
       "\n",
       "    .dataframe thead th {\n",
       "        text-align: right;\n",
       "    }\n",
       "</style>\n",
       "<table border=\"1\" class=\"dataframe\">\n",
       "  <thead>\n",
       "    <tr style=\"text-align: right;\">\n",
       "      <th></th>\n",
       "      <th>listing_id</th>\n",
       "      <th>minimum_nights</th>\n",
       "      <th>maximum_nights</th>\n",
       "    </tr>\n",
       "  </thead>\n",
       "  <tbody>\n",
       "    <tr>\n",
       "      <th>count</th>\n",
       "      <td>7.456220e+06</td>\n",
       "      <td>7.456220e+06</td>\n",
       "      <td>7.456220e+06</td>\n",
       "    </tr>\n",
       "    <tr>\n",
       "      <th>mean</th>\n",
       "      <td>2.286960e+07</td>\n",
       "      <td>9.003705e+00</td>\n",
       "      <td>2.109450e+05</td>\n",
       "    </tr>\n",
       "    <tr>\n",
       "      <th>std</th>\n",
       "      <td>1.236714e+07</td>\n",
       "      <td>1.882940e+01</td>\n",
       "      <td>2.124763e+07</td>\n",
       "    </tr>\n",
       "    <tr>\n",
       "      <th>min</th>\n",
       "      <td>1.866600e+04</td>\n",
       "      <td>1.000000e+00</td>\n",
       "      <td>1.000000e+00</td>\n",
       "    </tr>\n",
       "    <tr>\n",
       "      <th>25%</th>\n",
       "      <td>1.326226e+07</td>\n",
       "      <td>1.000000e+00</td>\n",
       "      <td>5.800000e+01</td>\n",
       "    </tr>\n",
       "    <tr>\n",
       "      <th>50%</th>\n",
       "      <td>2.415390e+07</td>\n",
       "      <td>2.000000e+00</td>\n",
       "      <td>1.125000e+03</td>\n",
       "    </tr>\n",
       "    <tr>\n",
       "      <th>75%</th>\n",
       "      <td>3.432116e+07</td>\n",
       "      <td>4.000000e+00</td>\n",
       "      <td>1.125000e+03</td>\n",
       "    </tr>\n",
       "    <tr>\n",
       "      <th>max</th>\n",
       "      <td>3.997381e+07</td>\n",
       "      <td>9.000000e+02</td>\n",
       "      <td>2.147484e+09</td>\n",
       "    </tr>\n",
       "  </tbody>\n",
       "</table>\n",
       "</div>"
      ],
      "text/plain": [
       "         listing_id  minimum_nights  maximum_nights\n",
       "count  7.456220e+06    7.456220e+06    7.456220e+06\n",
       "mean   2.286960e+07    9.003705e+00    2.109450e+05\n",
       "std    1.236714e+07    1.882940e+01    2.124763e+07\n",
       "min    1.866600e+04    1.000000e+00    1.000000e+00\n",
       "25%    1.326226e+07    1.000000e+00    5.800000e+01\n",
       "50%    2.415390e+07    2.000000e+00    1.125000e+03\n",
       "75%    3.432116e+07    4.000000e+00    1.125000e+03\n",
       "max    3.997381e+07    9.000000e+02    2.147484e+09"
      ]
     },
     "execution_count": 30,
     "metadata": {},
     "output_type": "execute_result"
    }
   ],
   "source": [
    "test1.describe()"
   ]
  },
  {
   "cell_type": "code",
   "execution_count": 106,
   "metadata": {},
   "outputs": [],
   "source": [
    "test1 = pd.read_csv(r\"C:\\Users\\aleen\\Desktop\\Master Thesis\\calendar.csv\")"
   ]
  },
  {
   "cell_type": "code",
   "execution_count": 107,
   "metadata": {},
   "outputs": [],
   "source": [
    "test1[\"price\"] = test1[\"price\"].replace('[\\$,]', '', regex=True).astype(float)\n",
    "# Then assigning new data type to numeric so we can do calculations.\n",
    "test1[\"price\"] = pd.to_numeric(test1[\"price\"])"
   ]
  },
  {
   "cell_type": "code",
   "execution_count": 108,
   "metadata": {},
   "outputs": [],
   "source": [
    "import datetime as dt"
   ]
  },
  {
   "cell_type": "code",
   "execution_count": 122,
   "metadata": {},
   "outputs": [
    {
     "name": "stderr",
     "output_type": "stream",
     "text": [
      "C:\\Users\\aleen\\AppData\\Local\\Continuum\\anaconda3\\lib\\site-packages\\numpy\\lib\\histograms.py:824: RuntimeWarning: invalid value encountered in greater_equal\n",
      "  keep = (tmp_a >= first_edge)\n",
      "C:\\Users\\aleen\\AppData\\Local\\Continuum\\anaconda3\\lib\\site-packages\\numpy\\lib\\histograms.py:825: RuntimeWarning: invalid value encountered in less_equal\n",
      "  keep &= (tmp_a <= last_edge)\n"
     ]
    },
    {
     "data": {
      "text/plain": [
       "(array([ 662662., 2333852., 1232010.,  898710.,  467449.,  464270.,\n",
       "         258816.,  282013.,  129201.,  122378.]),\n",
       " array([  0. ,  25.2,  50.4,  75.6, 100.8, 126. , 151.2, 176.4, 201.6,\n",
       "        226.8, 252. ]),\n",
       " <a list of 10 Patch objects>)"
      ]
     },
     "execution_count": 122,
     "metadata": {},
     "output_type": "execute_result"
    },
    {
     "data": {
      "image/png": "[encoded data removed]",
      "text/plain": [
       "<Figure size 864x432 with 1 Axes>"
      ]
     },
     "metadata": {
      "needs_background": "light"
     },
     "output_type": "display_data"
    }
   ],
   "source": [
    "import matplotlib.pyplot as plt\n",
    "import numpy as np\n",
    "# Data to be plotted \n",
    "x = test1.price\n",
    "# The figure size must be specified before plotting-\n",
    "plt.figure(figsize=(12,6))\n",
    "plt.hist(x)"
   ]
  },
  {
   "cell_type": "code",
   "execution_count": 91,
   "metadata": {},
   "outputs": [],
   "source": [
    "qhigh = test1[\"price\"].quantile(0.99)\n",
    "qlow = test1[\"price\"].quantile(0.01)"
   ]
  },
  {
   "cell_type": "code",
   "execution_count": 99,
   "metadata": {},
   "outputs": [],
   "source": [
    "test1.drop(test1[ (test1.price > qhigh) & (test1.price < qlow) ].index, axis=0, inplace=True)"
   ]
  },
  {
   "cell_type": "code",
   "execution_count": 94,
   "metadata": {},
   "outputs": [],
   "source": [
    "test1 = test1.drop(test1[test1.price > qhigh].index)"
   ]
  },
  {
   "cell_type": "code",
   "execution_count": 96,
   "metadata": {},
   "outputs": [
    {
     "data": {
      "text/plain": [
       "102.89713645235818"
      ]
     },
     "execution_count": 96,
     "metadata": {},
     "output_type": "execute_result"
    }
   ],
   "source": [
    "test1.price.mean()"
   ]
  },
  {
   "cell_type": "code",
   "execution_count": 110,
   "metadata": {},
   "outputs": [],
   "source": [
    "q1 = test1[\"price\"].quantile(0.25)\n",
    "q3 = test1[\"price\"].quantile(0.75)\n",
    "iqr = q3-q1\n",
    "lower_bound = q1 - (1.5*iqr)\n",
    "upper_bound = q3 + (1.5*iqr)"
   ]
  },
  {
   "cell_type": "code",
   "execution_count": 121,
   "metadata": {},
   "outputs": [],
   "source": [
    "test1.drop(test1[ (test1.price > upper_bound) ].index, axis=0, inplace=True)"
   ]
  },
  {
   "cell_type": "code",
   "execution_count": 116,
   "metadata": {},
   "outputs": [
    {
     "data": {
      "text/plain": [
       "-87.5"
      ]
     },
     "execution_count": 116,
     "metadata": {},
     "output_type": "execute_result"
    }
   ],
   "source": [
    "lower_bound"
   ]
  },
  {
   "cell_type": "code",
   "execution_count": 117,
   "metadata": {},
   "outputs": [
    {
     "data": {
      "text/plain": [
       "252.5"
      ]
     },
     "execution_count": 117,
     "metadata": {},
     "output_type": "execute_result"
    }
   ],
   "source": [
    "upper_bound"
   ]
  },
  {
   "cell_type": "code",
   "execution_count": 118,
   "metadata": {},
   "outputs": [
    {
     "data": {
      "text/plain": [
       "16.0"
      ]
     },
     "execution_count": 118,
     "metadata": {},
     "output_type": "execute_result"
    }
   ],
   "source": [
    "qlow"
   ]
  },
  {
   "cell_type": "code",
   "execution_count": 119,
   "metadata": {},
   "outputs": [
    {
     "data": {
      "text/plain": [
       "1020.0"
      ]
     },
     "execution_count": 119,
     "metadata": {},
     "output_type": "execute_result"
    }
   ],
   "source": [
    "qhigh"
   ]
  },
  {
   "cell_type": "code",
   "execution_count": 120,
   "metadata": {},
   "outputs": [
    {
     "data": {
      "text/plain": [
       "85.0"
      ]
     },
     "execution_count": 120,
     "metadata": {},
     "output_type": "execute_result"
    }
   ],
   "source": [
    "iqr"
   ]
  },
  {
   "cell_type": "code",
   "execution_count": 128,
   "metadata": {},
   "outputs": [
    {
     "data": {
      "text/plain": [
       "2015-04-05        True\n",
       "2015-08-21        True\n",
       "2015-09-03        True\n",
       "2015-10-02        True\n",
       "2015-11-06        True\n",
       "2015-12-03        True\n",
       "2016-01-03        True\n",
       "2016-02-03        True\n",
       "2016-04-04        True\n",
       "2016-05-03        True\n",
       "2016-06-03        True\n",
       "2016-07-04        True\n",
       "2016-08-04        True\n",
       "2016-09-03        True\n",
       "2016-11-03        True\n",
       "2016-12-04        True\n",
       "2017-01-02        True\n",
       "2017-02-03        True\n",
       "2017-03-02        True\n",
       "2017-04-02        True\n",
       "2017-05-03        True\n",
       "2017-06-02        True\n",
       "2017-07-03        True\n",
       "2017-08-03        True\n",
       "2017-09-04        True\n",
       "2017-10-03        True\n",
       "2017-11-03        True\n",
       "2017-12-04        True\n",
       "2018-04-07        True\n",
       "2018-05-10        True\n",
       "2018-06-06        True\n",
       "2018-07-06        True\n",
       "2018-08-07        True\n",
       "2018-09-08        True\n",
       "2018-10-05        True\n",
       "2018-11-04        True\n",
       "2018-12-06        True\n",
       "2019-01-13        True\n",
       "2019-02-04        True\n",
       "2019-03-07        True\n",
       "2019-04-08        True\n",
       "2019-05-06        True\n",
       "2019-06-04        True\n",
       "2019-07-08        True\n",
       "2019-08-08        True\n",
       "2019-09-14        True\n",
       "2019-10-15        True\n",
       "2019-11-03        True\n",
       "2019-12-07        True\n",
       "average_price    False\n",
       "date             False\n",
       "dtype: bool"
      ]
     },
     "execution_count": 128,
     "metadata": {},
     "output_type": "execute_result"
    }
   ],
   "source": [
    "calendar.isnull().any()"
   ]
  },
  {
   "cell_type": "code",
   "execution_count": null,
   "metadata": {},
   "outputs": [],
   "source": []
  }
 ],
 "metadata": {
  "kernelspec": {
   "display_name": "Python 3",
   "language": "python",
   "name": "python3"
  },
  "language_info": {
   "codemirror_mode": {
    "name": "ipython",
    "version": 3
   },
   "file_extension": ".py",
   "mimetype": "text/x-python",
   "name": "python",
   "nbconvert_exporter": "python",
   "pygments_lexer": "ipython3",
   "version": "3.6.7"
  }
 },
 "nbformat": 4,
 "nbformat_minor": 2
}
