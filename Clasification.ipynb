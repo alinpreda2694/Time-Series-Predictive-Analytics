{
 "cells": [
  {
   "cell_type": "markdown",
   "metadata": {},
   "source": [
    "# Classification Algorithms"
   ]
  },
  {
   "cell_type": "code",
   "execution_count": 1,
   "metadata": {},
   "outputs": [],
   "source": [
    "from sklearn.preprocessing import StandardScaler\n",
    "from sklearn.metrics import mean_squared_error\n",
    "from sklearn import metrics\n",
    "import warnings\n",
    "import numpy as np\n",
    "import pandas as pd\n",
    "from pprint import pprint\n",
    "warnings.filterwarnings(\"ignore\")"
   ]
  },
  {
   "cell_type": "code",
   "execution_count": 6,
   "metadata": {
    "code_folding": [
     0
    ]
   },
   "outputs": [],
   "source": [
    "#\n",
    "def MSE(labels, predictions):\n",
    "    return mean_squared_error(labels, predictions)\n",
    "\n",
    "def RMSE(labels, predictions):\n",
    "    return np.sqrt(mean_squared_error(labels, predictions))\n",
    "\n",
    "def MAE(labels,predictions):\n",
    "    errors = abs(labels-predictions)\n",
    "    mae = np.mean(errors)\n",
    "    return mae\n",
    "    \n",
    "def MAPE(labels, predictions):\n",
    "    errors = abs(labels-predictions)\n",
    "    mape = 100 * np.mean(abs(errors / labels))\n",
    "    return mape \n",
    "\n",
    "def R2(labels,predictions):\n",
    "    SS_Residual = sum((labels - predictions)**2)      \n",
    "    SS_Total = sum((labels -np.mean(labels))**2)  \n",
    "    r_squared = 1 - (float(SS_Residual))/SS_Total\n",
    "    return r_squared\n",
    "\n",
    "def adjR2(features,labels,predictions):\n",
    "    SS_Residual = sum((labels - predictions)**2)      \n",
    "    SS_Total = sum((labels -np.mean(labels))**2)  \n",
    "    r_squared = 1 - (float(SS_Residual))/SS_Total\n",
    "    adjusted_r_squared = 1 - (1-r_squared)*(len(labels)-1)/(len(labels)-features.shape[1]-1)\n",
    "    return adjusted_r_squared\n",
    "\n",
    "def auc(m, train, test): \n",
    "    return (metrics.roc_auc_score(y_train,m.predict_proba(train)[:,1]),\n",
    "            metrics.roc_auc_score(y_test,m.predict_proba(test)[:,1]))\n",
    "\n",
    "def regressor(model,X_train, y_train, X_test, y_test, printOut = False):\n",
    "    # Fit / train\n",
    "    model.fit(X_train,y_train)\n",
    "\n",
    "    # Predict\n",
    "    y_pred_train = model.predict(X_train)\n",
    "    y_pred_test = model.predict(X_test)\n",
    "    \n",
    "    # Metrics \n",
    "    mse_train  = MSE(y_train, y_pred_train)\n",
    "    mse_test  = MSE(y_test, y_pred_test)\n",
    "    \n",
    "    rmse_train = RMSE(y_train, y_pred_train)\n",
    "    rmse_test = RMSE(y_test, y_pred_test)\n",
    "    \n",
    "    mae_train = MAE(y_train, y_pred_train)\n",
    "    mae_test = MAE(y_test, y_pred_test)\n",
    "    \n",
    "    mape_train = MAPE(y_train, y_pred_train)\n",
    "    mape_test = MAPE(y_test, y_pred_test)\n",
    "    \n",
    "    r2_train = R2(y_train, y_pred_train)\n",
    "    r2_test = R2(y_test, y_pred_test)\n",
    "    \n",
    "    adjr2_train = adjR2(X_train,y_train, y_pred_train)\n",
    "    adjr2_test = adjR2(X_test,y_test, y_pred_test)\n",
    "    \n",
    "    if printOut == True:\n",
    "        # Printing predictions \n",
    "        print(\"TRAIN Results:\\n\")\n",
    "        print(f\"MSE: {round(mse_train, 2)}\")\n",
    "        print(f\"RMSE: {round(rmse_train, 2)}\")\n",
    "        print(f\"MAE: {round(mae_train, 2)}\")\n",
    "        print(f\"MAPE: {round(mape_train, 2)}%\")\n",
    "        print(f\"R^2: {round(r2_train, 2)}%\")\n",
    "        print(f\"Adj. R^2: {round(adjr2_train, 2)}%\")\n",
    "        print(\"\\n\")\n",
    "        print(\"TEST Results:\\n\")\n",
    "        print(f\"MSE: {round(mse_test, 2)}\")\n",
    "        print(f\"RMSE: {round(rmse_test, 2)}\")\n",
    "        print(f\"MAE: {round(mae_test, 2)}\")\n",
    "        print(f\"MAPE: {round(mape_test, 2)}%\")\n",
    "        print(f\"R^2: {round(r2_test, 2)}%\")\n",
    "        print(f\"Adj. R^2: {round(adjr2_test, 2)}%\")\n",
    "    \n",
    "    return (mse_test,rmse_test,mae_test,mape_test,r2_test,adjr2_test)"
   ]
  },
  {
   "cell_type": "code",
   "execution_count": 55,
   "metadata": {},
   "outputs": [],
   "source": [
    "from sklearn.metrics import accuracy_score, recall_score, precision_score, precision_recall_curve, f1_score, confusion_matrix, roc_auc_score, hamming_loss"
   ]
  },
  {
   "cell_type": "code",
   "execution_count": 56,
   "metadata": {
    "code_folding": []
   },
   "outputs": [],
   "source": [
    "def classifier(model,X_train, y_train, X_test, y_test, printOut = False):\n",
    "    # Fit / train\n",
    "    model.fit(X_train,y_train)\n",
    "    \n",
    "    # Predict\n",
    "    y_pred_train = model.predict(X_train)\n",
    "    y_pred_test = model.predict(X_test)\n",
    "    \n",
    "    accuracy_score_train = accuracy_score(y_train, y_pred_train)\n",
    "    hamming_loss_train = hamming_loss(y_train, y_pred_train)\n",
    "    #recall_score_train = recall_score(y_train, y_pred_train, average='micro')\n",
    "    #precision_score_train = precision_score(y_train, y_pred_train, average='micro')\n",
    "    #f1_score_train = f1_score(y_train, y_pred_train, average='micro')\n",
    "    #roc_auc_train = roc_auc_score(y_train, y_pred_train, average='micro')\n",
    "    \n",
    "    accuracy_score_test = accuracy_score(y_test, y_pred_test)\n",
    "    hamming_loss_test = hamming_loss(y_test, y_pred_test)\n",
    "    #recall_score_test = recall_score(y_test, y_pred_test, average='micro')\n",
    "    #precision_score_test = precision_score(y_test, y_pred_test, average='micro')\n",
    "    #f1_score_test = f1_score(y_test, y_pred_test, average='micro')\n",
    "    #roc_auc_test = roc_auc_score(y_test, y_pred_test, average='micro')\n",
    "    \n",
    "    # Printing predictions \n",
    "    print(\"TRAIN Results:\\n\")\n",
    "    print(f\"Accuracy: {round(accuracy_score_train, 2)}%\")\n",
    "    print(f\"Hamming loss: {round(hamming_loss_train, 2)}%\")\n",
    "    #print(f\"Precision: {round(precision_score_train, 2)}\")\n",
    "    #print(f\"Recall: {round(recall_score_train, 2)}\")\n",
    "   # print(f\"F1: {round(f1_score_train, 2)}%\")\n",
    "    #print(f\"RocAuc: {round(roc_auc_train, 2)}%\")\n",
    "    print(\"\\n\")\n",
    "    print(\"TEST Results:\\n\")\n",
    "    print(f\"Accuracy: {round(accuracy_score_test, 2)}%\")\n",
    "    print(f\"Hamming loss: {round(hamming_loss_test, 2)}%\")\n",
    "    #print(f\"Precision: {round(precision_score_test, 2)}\")\n",
    "    #print(f\"Recall: {round(recall_score_test, 2)}\")\n",
    "    #print(f\"F1: {round(f1_score_test, 2)}%\")\n",
    "    #print(f\"RocAuc: {round(roc_auc_test, 2)}%\")\n",
    "    print(\"\\n\")\n",
    "\n",
    "    # , precision_score_test, recall_score_test, f1_score_test, roc_auc_test\n",
    "    return (accuracy_score_test)"
   ]
  },
  {
   "cell_type": "code",
   "execution_count": 8,
   "metadata": {},
   "outputs": [],
   "source": [
    "europe = pd.read_csv(r\"C:\\Users\\aleen\\Desktop\\Reviews\\Merged_listings_plus_sentiment\\europe_listings_classif.csv\")\n",
    "europe.drop('Unnamed: 0', inplace=True,axis=1)\n",
    "europe.drop(['city','price'], axis=1, inplace=True)"
   ]
  },
  {
   "cell_type": "code",
   "execution_count": 9,
   "metadata": {},
   "outputs": [
    {
     "name": "stdout",
     "output_type": "stream",
     "text": [
      "96183 96183\n",
      "10688 10688\n"
     ]
    }
   ],
   "source": [
    "#\n",
    "from sklearn.model_selection import train_test_split\n",
    "X = europe.drop(['price_category'],axis=1)\n",
    "y = europe['price_category']\n",
    "X_train,X_test,y_train,y_test = train_test_split(X,y,test_size=0.1,random_state=1)\n",
    "print(len(X_train), len(y_train)) # 7969\n",
    "print(len(X_test), len(y_test)) # 1993"
   ]
  },
  {
   "cell_type": "code",
   "execution_count": 30,
   "metadata": {
    "code_folding": []
   },
   "outputs": [],
   "source": [
    "#\n",
    "scaler = StandardScaler()\n",
    "scaler = scaler.fit_transform(df)\n",
    "sdf = pd.DataFrame(scaler,columns=df.columns.values)"
   ]
  },
  {
   "cell_type": "code",
   "execution_count": 10,
   "metadata": {},
   "outputs": [
    {
     "name": "stdout",
     "output_type": "stream",
     "text": [
      "141104 141104\n"
     ]
    }
   ],
   "source": [
    "from imblearn.over_sampling import SMOTE\n",
    "smote = SMOTE('minority')\n",
    "X_sm, y_sm = smote.fit_sample(X_train, y_train)\n",
    "print(len(X_sm), len(y_sm)) # 7969"
   ]
  },
  {
   "cell_type": "markdown",
   "metadata": {},
   "source": [
    "### Random forests"
   ]
  },
  {
   "cell_type": "code",
   "execution_count": 40,
   "metadata": {
    "collapsed": true
   },
   "outputs": [
    {
     "name": "stdout",
     "output_type": "stream",
     "text": [
      "TRAIN Results:\n",
      "\n",
      "Accuracy: 1.0\n",
      "\n",
      "\n",
      "TEST Results:\n",
      "\n",
      "Accuracy: 0.55\n",
      "\n",
      "\n"
     ]
    },
    {
     "ename": "NameError",
     "evalue": "name 'precision_score_test' is not defined",
     "output_type": "error",
     "traceback": [
      "\u001b[1;31m---------------------------------------------------------------------------\u001b[0m",
      "\u001b[1;31mNameError\u001b[0m                                 Traceback (most recent call last)",
      "\u001b[1;32m<ipython-input-40-4ae1471b7ea8>\u001b[0m in \u001b[0;36m<module>\u001b[1;34m\u001b[0m\n\u001b[0;32m      1\u001b[0m \u001b[1;32mfrom\u001b[0m \u001b[0msklearn\u001b[0m\u001b[1;33m.\u001b[0m\u001b[0mensemble\u001b[0m \u001b[1;32mimport\u001b[0m \u001b[0mRandomForestClassifier\u001b[0m\u001b[1;33m\u001b[0m\u001b[1;33m\u001b[0m\u001b[0m\n\u001b[0;32m      2\u001b[0m \u001b[0mrf\u001b[0m \u001b[1;33m=\u001b[0m \u001b[0mRandomForestClassifier\u001b[0m\u001b[1;33m(\u001b[0m\u001b[0mn_estimators\u001b[0m \u001b[1;33m=\u001b[0m \u001b[1;36m100\u001b[0m\u001b[1;33m,\u001b[0m \u001b[0mcriterion\u001b[0m \u001b[1;33m=\u001b[0m \u001b[1;34m'entropy'\u001b[0m\u001b[1;33m,\u001b[0m \u001b[0mrandom_state\u001b[0m \u001b[1;33m=\u001b[0m \u001b[1;36m42\u001b[0m\u001b[1;33m)\u001b[0m\u001b[1;33m\u001b[0m\u001b[1;33m\u001b[0m\u001b[0m\n\u001b[1;32m----> 3\u001b[1;33m \u001b[0mrf_metrics\u001b[0m \u001b[1;33m=\u001b[0m \u001b[0mclassifier\u001b[0m\u001b[1;33m(\u001b[0m\u001b[0mrf\u001b[0m\u001b[1;33m,\u001b[0m\u001b[0mX_train\u001b[0m\u001b[1;33m,\u001b[0m \u001b[0my_train\u001b[0m\u001b[1;33m,\u001b[0m \u001b[0mX_test\u001b[0m\u001b[1;33m,\u001b[0m \u001b[0my_test\u001b[0m\u001b[1;33m,\u001b[0m \u001b[0mprintOut\u001b[0m\u001b[1;33m=\u001b[0m\u001b[1;32mTrue\u001b[0m\u001b[1;33m)\u001b[0m\u001b[1;33m\u001b[0m\u001b[1;33m\u001b[0m\u001b[0m\n\u001b[0m",
      "\u001b[1;32m<ipython-input-39-a773369227dd>\u001b[0m in \u001b[0;36mclassifier\u001b[1;34m(model, X_train, y_train, X_test, y_test, printOut)\u001b[0m\n\u001b[0;32m     36\u001b[0m \u001b[1;33m\u001b[0m\u001b[0m\n\u001b[0;32m     37\u001b[0m \u001b[1;33m\u001b[0m\u001b[0m\n\u001b[1;32m---> 38\u001b[1;33m     \u001b[1;32mreturn\u001b[0m \u001b[1;33m(\u001b[0m\u001b[0maccuracy_score_test\u001b[0m\u001b[1;33m,\u001b[0m \u001b[0mprecision_score_test\u001b[0m\u001b[1;33m,\u001b[0m \u001b[0mrecall_score_test\u001b[0m\u001b[1;33m,\u001b[0m \u001b[0mf1_score_test\u001b[0m\u001b[1;33m,\u001b[0m \u001b[0mroc_auc_test\u001b[0m\u001b[1;33m)\u001b[0m\u001b[1;33m\u001b[0m\u001b[1;33m\u001b[0m\u001b[0m\n\u001b[0m",
      "\u001b[1;31mNameError\u001b[0m: name 'precision_score_test' is not defined"
     ]
    }
   ],
   "source": [
    "from sklearn.ensemble import RandomForestClassifier\n",
    "rf = RandomForestClassifier(n_estimators = 100, criterion = 'entropy', random_state = 42)\n",
    "rf_metrics = classifier(rf,X_train, y_train, X_test, y_test, printOut=True)"
   ]
  },
  {
   "cell_type": "code",
   "execution_count": 51,
   "metadata": {},
   "outputs": [
    {
     "name": "stdout",
     "output_type": "stream",
     "text": [
      "TRAIN Results:\n",
      "\n",
      "Accuracy: 0.59\n",
      "\n",
      "\n",
      "TEST Results:\n",
      "\n",
      "Accuracy: 0.53\n",
      "\n",
      "\n"
     ]
    }
   ],
   "source": [
    "rf = RandomForestClassifier(n_estimators = 100, criterion = 'entropy', random_state = 42,\n",
    "                           max_depth = 12, max_features = 'auto', n_jobs = -1)\n",
    "rf_metrics = classifier(rf,X_train, y_train, X_test, y_test, printOut=True)"
   ]
  },
  {
   "cell_type": "code",
   "execution_count": 52,
   "metadata": {},
   "outputs": [
    {
     "name": "stdout",
     "output_type": "stream",
     "text": [
      "TRAIN Results:\n",
      "\n",
      "Accuracy: 0.59\n",
      "\n",
      "\n",
      "TEST Results:\n",
      "\n",
      "Accuracy: 0.53\n",
      "\n",
      "\n"
     ]
    }
   ],
   "source": [
    "rf = RandomForestClassifier(n_estimators = 100, criterion = 'gini', random_state = 42,\n",
    "                           max_depth = 12, max_features = 'auto', n_jobs = -1)\n",
    "rf_metrics = classifier(rf,X_train, y_train, X_test, y_test, printOut=True)"
   ]
  },
  {
   "cell_type": "code",
   "execution_count": 57,
   "metadata": {},
   "outputs": [
    {
     "name": "stdout",
     "output_type": "stream",
     "text": [
      "TRAIN Results:\n",
      "\n",
      "Accuracy: 0.72%\n",
      "Hamming loss: 0.28%\n",
      "\n",
      "\n",
      "TEST Results:\n",
      "\n",
      "Accuracy: 0.52%\n",
      "Hamming loss: 0.48%\n",
      "\n",
      "\n"
     ]
    }
   ],
   "source": [
    "rf = RandomForestClassifier(n_estimators = 100, criterion = 'gini', random_state = 42,\n",
    "                           max_depth = 12, max_features = 'auto', n_jobs = -1)\n",
    "rf_metrics = classifier(rf,X_sm, y_sm, X_test, y_test, printOut=True)"
   ]
  },
  {
   "cell_type": "code",
   "execution_count": 53,
   "metadata": {},
   "outputs": [
    {
     "data": {
      "text/plain": [
       "<matplotlib.axes._subplots.AxesSubplot at 0x2521f937eb8>"
      ]
     },
     "execution_count": 53,
     "metadata": {},
     "output_type": "execute_result"
    },
    {
     "data": {
      "image/png": "[encoded data removed]",
      "text/plain": [
       "<Figure size 1440x720 with 1 Axes>"
      ]
     },
     "metadata": {
      "needs_background": "light"
     },
     "output_type": "display_data"
    }
   ],
   "source": [
    "# plot the important features\n",
    "import matplotlib as plt\n",
    "feat_importances = pd.Series(rf.feature_importances_, index=X.columns.values)\n",
    "feat_importances.nlargest(10).sort_values().plot(kind='barh', color='darkgrey', figsize=(20,10))"
   ]
  },
  {
   "cell_type": "markdown",
   "metadata": {},
   "source": [
    "### XGBoost"
   ]
  },
  {
   "cell_type": "code",
   "execution_count": 54,
   "metadata": {},
   "outputs": [
    {
     "name": "stdout",
     "output_type": "stream",
     "text": [
      "TRAIN Results:\n",
      "\n",
      "Accuracy: 0.68\n",
      "\n",
      "\n",
      "TEST Results:\n",
      "\n",
      "Accuracy: 0.55\n",
      "\n",
      "\n"
     ]
    }
   ],
   "source": [
    "# create a baseline\n",
    "import xgboost as xgb\n",
    "booster = xgb.XGBClassifier()\n",
    "\n",
    "# instantiate xgboost with best parameters\n",
    "booster = xgb.XGBClassifier(colsample_bytree=0.2, gamma=0.2, learning_rate=0.3, \n",
    "                           max_depth=7, n_estimators=100, random_state=1, verbosity=0)\n",
    "\n",
    "booster_metrics = classifier(booster,X_train, y_train, X_test, y_test, printOut=True)"
   ]
  },
  {
   "cell_type": "code",
   "execution_count": 59,
   "metadata": {
    "collapsed": true
   },
   "outputs": [
    {
     "ename": "ValueError",
     "evalue": "feature_names mismatch: ['f0', 'f1', 'f2', 'f3', 'f4', 'f5', 'f6', 'f7', 'f8', 'f9', 'f10', 'f11', 'f12', 'f13', 'f14', 'f15', 'f16', 'f17', 'f18', 'f19', 'f20', 'f21', 'f22', 'f23', 'f24', 'f25', 'f26', 'f27', 'f28', 'f29', 'f30', 'f31', 'f32', 'f33', 'f34', 'f35', 'f36', 'f37', 'f38', 'f39', 'f40', 'f41', 'f42', 'f43', 'f44', 'f45', 'f46', 'f47', 'f48', 'f49', 'f50', 'f51', 'f52', 'f53', 'f54', 'f55', 'f56', 'f57'] ['summary', 'space', 'description', 'neighborhood_overview', 'notes', 'transit', 'access', 'interaction', 'house_rules', 'host_about', 'host_is_superhost', 'host_total_listings_count', 'accommodates', 'bathrooms', 'bedrooms', 'weekly_price', 'monthly_price', 'security_deposit', 'cleaning_fee', 'guests_included', 'extra_people', 'minimum_nights', 'maximum_nights', 'number_of_reviews', 'review_scores_rating', 'review_scores_accuracy', 'instant_bookable', 'require_guest_profile_picture', 'calculated_host_listings_count', 'amenities_additional', 'amenities_family', 'amenities_logistics', 'amenities_safety', 'amenities_location', 'amenities_pets', 'amenities_access', 'amenities_special_needs', 'amenities_spacious', 'ambiguous', 'apartment', 'b&b', 'hotel', 'other', 'secondary', 'unique', 'distance_to_center', 'host_age', 'a few days or more', 'within a day', 'within a few hours', 'within an hour', 'Entire home/apt', 'Shared room', 'Airbed', 'Couch', 'Real Bed', 'reviews_sentiment', 'summary_sentiment']\nexpected f50, f29, f19, f11, f15, f48, f55, f9, f34, f47, f14, f28, f36, f45, f38, f13, f12, f30, f17, f54, f4, f26, f52, f18, f42, f33, f10, f7, f31, f53, f21, f25, f27, f44, f35, f6, f39, f0, f22, f24, f43, f57, f3, f16, f23, f40, f51, f20, f56, f8, f2, f46, f5, f1, f49, f41, f32, f37 in input data\ntraining data did not have the following fields: access, amenities_access, other, b&b, house_rules, require_guest_profile_picture, secondary, within an hour, instant_bookable, amenities_location, amenities_spacious, amenities_special_needs, a few days or more, host_about, space, extra_people, amenities_safety, hotel, accommodates, host_total_listings_count, bathrooms, ambiguous, review_scores_rating, description, within a few hours, host_is_superhost, interaction, distance_to_center, amenities_pets, summary, summary_sentiment, calculated_host_listings_count, reviews_sentiment, weekly_price, transit, Shared room, Airbed, monthly_price, Real Bed, cleaning_fee, amenities_logistics, security_deposit, amenities_additional, Entire home/apt, unique, maximum_nights, guests_included, host_age, minimum_nights, review_scores_accuracy, amenities_family, bedrooms, neighborhood_overview, within a day, Couch, notes, number_of_reviews, apartment",
     "output_type": "error",
     "traceback": [
      "\u001b[1;31m---------------------------------------------------------------------------\u001b[0m",
      "\u001b[1;31mValueError\u001b[0m                                Traceback (most recent call last)",
      "\u001b[1;32m<ipython-input-59-c4ba691c94d8>\u001b[0m in \u001b[0;36m<module>\u001b[1;34m\u001b[0m\n\u001b[0;32m      7\u001b[0m                            max_depth=7, n_estimators=100, random_state=1, verbosity=0)\n\u001b[0;32m      8\u001b[0m \u001b[1;33m\u001b[0m\u001b[0m\n\u001b[1;32m----> 9\u001b[1;33m \u001b[0mbooster_metrics\u001b[0m \u001b[1;33m=\u001b[0m \u001b[0mclassifier\u001b[0m\u001b[1;33m(\u001b[0m\u001b[0mbooster\u001b[0m\u001b[1;33m,\u001b[0m\u001b[0mX_sm\u001b[0m\u001b[1;33m,\u001b[0m \u001b[0my_sm\u001b[0m\u001b[1;33m,\u001b[0m \u001b[0mX_test\u001b[0m\u001b[1;33m,\u001b[0m \u001b[0my_test\u001b[0m\u001b[1;33m,\u001b[0m \u001b[0mprintOut\u001b[0m\u001b[1;33m=\u001b[0m\u001b[1;32mTrue\u001b[0m\u001b[1;33m)\u001b[0m\u001b[1;33m\u001b[0m\u001b[1;33m\u001b[0m\u001b[0m\n\u001b[0m",
      "\u001b[1;32m<ipython-input-56-91e072c6e131>\u001b[0m in \u001b[0;36mclassifier\u001b[1;34m(model, X_train, y_train, X_test, y_test, printOut)\u001b[0m\n\u001b[0;32m      5\u001b[0m     \u001b[1;31m# Predict\u001b[0m\u001b[1;33m\u001b[0m\u001b[1;33m\u001b[0m\u001b[1;33m\u001b[0m\u001b[0m\n\u001b[0;32m      6\u001b[0m     \u001b[0my_pred_train\u001b[0m \u001b[1;33m=\u001b[0m \u001b[0mmodel\u001b[0m\u001b[1;33m.\u001b[0m\u001b[0mpredict\u001b[0m\u001b[1;33m(\u001b[0m\u001b[0mX_train\u001b[0m\u001b[1;33m)\u001b[0m\u001b[1;33m\u001b[0m\u001b[1;33m\u001b[0m\u001b[0m\n\u001b[1;32m----> 7\u001b[1;33m     \u001b[0my_pred_test\u001b[0m \u001b[1;33m=\u001b[0m \u001b[0mmodel\u001b[0m\u001b[1;33m.\u001b[0m\u001b[0mpredict\u001b[0m\u001b[1;33m(\u001b[0m\u001b[0mX_test\u001b[0m\u001b[1;33m)\u001b[0m\u001b[1;33m\u001b[0m\u001b[1;33m\u001b[0m\u001b[0m\n\u001b[0m\u001b[0;32m      8\u001b[0m \u001b[1;33m\u001b[0m\u001b[0m\n\u001b[0;32m      9\u001b[0m     \u001b[0maccuracy_score_train\u001b[0m \u001b[1;33m=\u001b[0m \u001b[0maccuracy_score\u001b[0m\u001b[1;33m(\u001b[0m\u001b[0my_train\u001b[0m\u001b[1;33m,\u001b[0m \u001b[0my_pred_train\u001b[0m\u001b[1;33m)\u001b[0m\u001b[1;33m\u001b[0m\u001b[1;33m\u001b[0m\u001b[0m\n",
      "\u001b[1;32m~\\AppData\\Local\\Continuum\\anaconda3\\lib\\site-packages\\xgboost\\sklearn.py\u001b[0m in \u001b[0;36mpredict\u001b[1;34m(self, data, output_margin, ntree_limit, validate_features)\u001b[0m\n\u001b[0;32m    789\u001b[0m                                                  \u001b[0moutput_margin\u001b[0m\u001b[1;33m=\u001b[0m\u001b[0moutput_margin\u001b[0m\u001b[1;33m,\u001b[0m\u001b[1;33m\u001b[0m\u001b[1;33m\u001b[0m\u001b[0m\n\u001b[0;32m    790\u001b[0m                                                  \u001b[0mntree_limit\u001b[0m\u001b[1;33m=\u001b[0m\u001b[0mntree_limit\u001b[0m\u001b[1;33m,\u001b[0m\u001b[1;33m\u001b[0m\u001b[1;33m\u001b[0m\u001b[0m\n\u001b[1;32m--> 791\u001b[1;33m                                                  validate_features=validate_features)\n\u001b[0m\u001b[0;32m    792\u001b[0m         \u001b[1;32mif\u001b[0m \u001b[0moutput_margin\u001b[0m\u001b[1;33m:\u001b[0m\u001b[1;33m\u001b[0m\u001b[1;33m\u001b[0m\u001b[0m\n\u001b[0;32m    793\u001b[0m             \u001b[1;31m# If output_margin is active, simply return the scores\u001b[0m\u001b[1;33m\u001b[0m\u001b[1;33m\u001b[0m\u001b[1;33m\u001b[0m\u001b[0m\n",
      "\u001b[1;32m~\\AppData\\Local\\Continuum\\anaconda3\\lib\\site-packages\\xgboost\\core.py\u001b[0m in \u001b[0;36mpredict\u001b[1;34m(self, data, output_margin, ntree_limit, pred_leaf, pred_contribs, approx_contribs, pred_interactions, validate_features)\u001b[0m\n\u001b[0;32m   1282\u001b[0m \u001b[1;33m\u001b[0m\u001b[0m\n\u001b[0;32m   1283\u001b[0m         \u001b[1;32mif\u001b[0m \u001b[0mvalidate_features\u001b[0m\u001b[1;33m:\u001b[0m\u001b[1;33m\u001b[0m\u001b[1;33m\u001b[0m\u001b[0m\n\u001b[1;32m-> 1284\u001b[1;33m             \u001b[0mself\u001b[0m\u001b[1;33m.\u001b[0m\u001b[0m_validate_features\u001b[0m\u001b[1;33m(\u001b[0m\u001b[0mdata\u001b[0m\u001b[1;33m)\u001b[0m\u001b[1;33m\u001b[0m\u001b[1;33m\u001b[0m\u001b[0m\n\u001b[0m\u001b[0;32m   1285\u001b[0m \u001b[1;33m\u001b[0m\u001b[0m\n\u001b[0;32m   1286\u001b[0m         \u001b[0mlength\u001b[0m \u001b[1;33m=\u001b[0m \u001b[0mc_bst_ulong\u001b[0m\u001b[1;33m(\u001b[0m\u001b[1;33m)\u001b[0m\u001b[1;33m\u001b[0m\u001b[1;33m\u001b[0m\u001b[0m\n",
      "\u001b[1;32m~\\AppData\\Local\\Continuum\\anaconda3\\lib\\site-packages\\xgboost\\core.py\u001b[0m in \u001b[0;36m_validate_features\u001b[1;34m(self, data)\u001b[0m\n\u001b[0;32m   1688\u001b[0m \u001b[1;33m\u001b[0m\u001b[0m\n\u001b[0;32m   1689\u001b[0m                 raise ValueError(msg.format(self.feature_names,\n\u001b[1;32m-> 1690\u001b[1;33m                                             data.feature_names))\n\u001b[0m\u001b[0;32m   1691\u001b[0m \u001b[1;33m\u001b[0m\u001b[0m\n\u001b[0;32m   1692\u001b[0m     \u001b[1;32mdef\u001b[0m \u001b[0mget_split_value_histogram\u001b[0m\u001b[1;33m(\u001b[0m\u001b[0mself\u001b[0m\u001b[1;33m,\u001b[0m \u001b[0mfeature\u001b[0m\u001b[1;33m,\u001b[0m \u001b[0mfmap\u001b[0m\u001b[1;33m=\u001b[0m\u001b[1;34m''\u001b[0m\u001b[1;33m,\u001b[0m \u001b[0mbins\u001b[0m\u001b[1;33m=\u001b[0m\u001b[1;32mNone\u001b[0m\u001b[1;33m,\u001b[0m \u001b[0mas_pandas\u001b[0m\u001b[1;33m=\u001b[0m\u001b[1;32mTrue\u001b[0m\u001b[1;33m)\u001b[0m\u001b[1;33m:\u001b[0m\u001b[1;33m\u001b[0m\u001b[1;33m\u001b[0m\u001b[0m\n",
      "\u001b[1;31mValueError\u001b[0m: feature_names mismatch: ['f0', 'f1', 'f2', 'f3', 'f4', 'f5', 'f6', 'f7', 'f8', 'f9', 'f10', 'f11', 'f12', 'f13', 'f14', 'f15', 'f16', 'f17', 'f18', 'f19', 'f20', 'f21', 'f22', 'f23', 'f24', 'f25', 'f26', 'f27', 'f28', 'f29', 'f30', 'f31', 'f32', 'f33', 'f34', 'f35', 'f36', 'f37', 'f38', 'f39', 'f40', 'f41', 'f42', 'f43', 'f44', 'f45', 'f46', 'f47', 'f48', 'f49', 'f50', 'f51', 'f52', 'f53', 'f54', 'f55', 'f56', 'f57'] ['summary', 'space', 'description', 'neighborhood_overview', 'notes', 'transit', 'access', 'interaction', 'house_rules', 'host_about', 'host_is_superhost', 'host_total_listings_count', 'accommodates', 'bathrooms', 'bedrooms', 'weekly_price', 'monthly_price', 'security_deposit', 'cleaning_fee', 'guests_included', 'extra_people', 'minimum_nights', 'maximum_nights', 'number_of_reviews', 'review_scores_rating', 'review_scores_accuracy', 'instant_bookable', 'require_guest_profile_picture', 'calculated_host_listings_count', 'amenities_additional', 'amenities_family', 'amenities_logistics', 'amenities_safety', 'amenities_location', 'amenities_pets', 'amenities_access', 'amenities_special_needs', 'amenities_spacious', 'ambiguous', 'apartment', 'b&b', 'hotel', 'other', 'secondary', 'unique', 'distance_to_center', 'host_age', 'a few days or more', 'within a day', 'within a few hours', 'within an hour', 'Entire home/apt', 'Shared room', 'Airbed', 'Couch', 'Real Bed', 'reviews_sentiment', 'summary_sentiment']\nexpected f50, f29, f19, f11, f15, f48, f55, f9, f34, f47, f14, f28, f36, f45, f38, f13, f12, f30, f17, f54, f4, f26, f52, f18, f42, f33, f10, f7, f31, f53, f21, f25, f27, f44, f35, f6, f39, f0, f22, f24, f43, f57, f3, f16, f23, f40, f51, f20, f56, f8, f2, f46, f5, f1, f49, f41, f32, f37 in input data\ntraining data did not have the following fields: access, amenities_access, other, b&b, house_rules, require_guest_profile_picture, secondary, within an hour, instant_bookable, amenities_location, amenities_spacious, amenities_special_needs, a few days or more, host_about, space, extra_people, amenities_safety, hotel, accommodates, host_total_listings_count, bathrooms, ambiguous, review_scores_rating, description, within a few hours, host_is_superhost, interaction, distance_to_center, amenities_pets, summary, summary_sentiment, calculated_host_listings_count, reviews_sentiment, weekly_price, transit, Shared room, Airbed, monthly_price, Real Bed, cleaning_fee, amenities_logistics, security_deposit, amenities_additional, Entire home/apt, unique, maximum_nights, guests_included, host_age, minimum_nights, review_scores_accuracy, amenities_family, bedrooms, neighborhood_overview, within a day, Couch, notes, number_of_reviews, apartment"
     ]
    }
   ],
   "source": [
    "# create a baseline\n",
    "import xgboost as xgb\n",
    "booster = xgb.XGBClassifier()\n",
    "\n",
    "# instantiate xgboost with best parameters\n",
    "booster = xgb.XGBClassifier(colsample_bytree=0.2, gamma=0.2, learning_rate=0.3, \n",
    "                           max_depth=7, n_estimators=100, random_state=1, verbosity=0)\n",
    "\n",
    "booster_metrics = classifier(booster,X_sm, y_sm, X_test, y_test, printOut=True)"
   ]
  },
  {
   "cell_type": "code",
   "execution_count": null,
   "metadata": {},
   "outputs": [],
   "source": [
    "xg_train = xgb.DMatrix(data=X_train, label=y_train)\n",
    "params = booster_grid_search.best_params_\n",
    "cv_results = xgb.cv(dtrain=xg_train, params=params, nfold=3,\n",
    "                    num_boost_round=200, early_stopping_rounds=10, \n",
    "                    metrics=\"rmse\", as_pandas=True)"
   ]
  },
  {
   "cell_type": "code",
   "execution_count": 30,
   "metadata": {},
   "outputs": [
    {
     "data": {
      "text/plain": [
       "<matplotlib.axes._subplots.AxesSubplot at 0x2b41f7c5e10>"
      ]
     },
     "execution_count": 30,
     "metadata": {},
     "output_type": "execute_result"
    },
    {
     "data": {
      "image/png": "[encoded data removed]",
      "text/plain": [
       "<Figure size 1440x720 with 1 Axes>"
      ]
     },
     "metadata": {
      "needs_background": "light"
     },
     "output_type": "display_data"
    }
   ],
   "source": [
    "# plot the important features\n",
    "import matplotlib as plt\n",
    "feat_importances = pd.Series(booster.feature_importances_, index=X.columns.values)\n",
    "feat_importances.nlargest(20).sort_values().plot(kind='barh', color='darkgrey', figsize=(20,10))"
   ]
  }
 ],
 "metadata": {
  "kernelspec": {
   "display_name": "Python 3",
   "language": "python",
   "name": "python3"
  },
  "language_info": {
   "codemirror_mode": {
    "name": "ipython",
    "version": 3
   },
   "file_extension": ".py",
   "mimetype": "text/x-python",
   "name": "python",
   "nbconvert_exporter": "python",
   "pygments_lexer": "ipython3",
   "version": "3.6.7"
  }
 },
 "nbformat": 4,
 "nbformat_minor": 2
}
