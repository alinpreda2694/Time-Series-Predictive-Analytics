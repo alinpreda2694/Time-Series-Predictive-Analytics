{
 "cells": [
  {
   "cell_type": "code",
   "execution_count": 19,
   "metadata": {},
   "outputs": [],
   "source": [
    "import pandas as pd\n",
    "\n",
    "root = r\"C:\\Users\\aleen\\Desktop\\Dizertatie\\Data\\\\\"\n",
    "\n",
    "amsterdam = pd.read_csv(root + \"amsterdam.csv\")\n",
    "athens = pd.read_csv(root+\"athens.csv\")\n",
    "berlin = pd.read_csv(root+\"berlin.csv\")\n",
    "copenhagen = pd.read_csv(root+\"copenhagen.csv\")\n",
    "london = pd.read_csv(root+\"london.csv\")\n",
    "madrid = pd.read_csv(root+\"madrid.csv\")\n",
    "paris = pd.read_csv(root+\"paris.csv\")\n",
    "prague = pd.read_csv(root+\"prague.csv\")\n",
    "rome = pd.read_csv(root+\"rome.csv\")\n",
    "vienna = pd.read_csv(root+\"vienna.csv\")"
   ]
  },
  {
   "cell_type": "code",
   "execution_count": 20,
   "metadata": {},
   "outputs": [],
   "source": [
    "df_list = [amsterdam, athens, berlin, copenhagen, london, madrid, paris, prague, rome, vienna]\n",
    "\n",
    "city_category_list = ['amsterdam', 'athens', 'berlin', 'copenhagen', 'london', 'madrid', 'paris', 'prague', 'rome', 'vienna']\n",
    "i = 0\n",
    "for df in df_list:\n",
    "    df['city'] = city_category_list[i]\n",
    "    i += 1"
   ]
  },
  {
   "cell_type": "code",
   "execution_count": 21,
   "metadata": {},
   "outputs": [
    {
     "data": {
      "text/plain": [
       "855.3873601238652"
      ]
     },
     "execution_count": 21,
     "metadata": {},
     "output_type": "execute_result"
    }
   ],
   "source": [
    "copenhagen.price.mean()"
   ]
  },
  {
   "cell_type": "code",
   "execution_count": 22,
   "metadata": {},
   "outputs": [],
   "source": [
    "def convert_to_euro(amount,currency):\n",
    "    '''\n",
    "    This converter uses no API at the moment. Just need to update the currency rate list.\n",
    "    You input the amount of currency you want to convert and the currency you convert to.\n",
    "    '''\n",
    "    rates = [(0.13,\"DKK\"),(1.10,\"GBP\"),(1.0,\"EUR\"),(0.037,'CZK')]\n",
    "\n",
    "    def getall(my_list, s):\n",
    "        index = [x for x, y in my_list if y==s] # Very versatile. \n",
    "        return (index[0])\n",
    "\n",
    "    rate = getall(rates, currency)\n",
    "    out = amount * rate\n",
    "    return (out)\n",
    "\n",
    "def convert_prices_in_dataframe(df, local_currency):\n",
    "    prices_list = ['price']\n",
    "    for p in prices_list:\n",
    "        df[p] = df.apply(lambda x: convert_to_euro(x[p], local_currency), axis=1)\n",
    "        \n",
    "convert_prices_in_dataframe(copenhagen, 'DKK')\n",
    "convert_prices_in_dataframe(london, 'GBP')\n",
    "convert_prices_in_dataframe(prague, 'CZK')"
   ]
  },
  {
   "cell_type": "code",
   "execution_count": 23,
   "metadata": {},
   "outputs": [],
   "source": [
    "df_final = pd.concat(df_list)"
   ]
  },
  {
   "cell_type": "code",
   "execution_count": 24,
   "metadata": {},
   "outputs": [],
   "source": [
    "df_final.to_csv(r\"C:\\Users\\aleen\\Desktop\\Reviews\\Merged_listings_plus_sentiment\\europe_listings.csv\")"
   ]
  },
  {
   "cell_type": "code",
   "execution_count": null,
   "metadata": {},
   "outputs": [],
   "source": []
  }
 ],
 "metadata": {
  "kernelspec": {
   "display_name": "Python 3",
   "language": "python",
   "name": "python3"
  },
  "language_info": {
   "codemirror_mode": {
    "name": "ipython",
    "version": 3
   },
   "file_extension": ".py",
   "mimetype": "text/x-python",
   "name": "python",
   "nbconvert_exporter": "python",
   "pygments_lexer": "ipython3",
   "version": "3.6.7"
  }
 },
 "nbformat": 4,
 "nbformat_minor": 2
}
