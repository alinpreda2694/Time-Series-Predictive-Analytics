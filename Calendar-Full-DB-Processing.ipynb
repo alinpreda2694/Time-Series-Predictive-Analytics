{
 "cells": [
  {
   "cell_type": "markdown",
   "metadata": {},
   "source": [
    "# Calendar Full DB Pre-Processing\n",
    "\n",
    "#### Goals:\n",
    "- Add 'city' as a feature. \n",
    "- Exchange prices to Euros.\n",
    "- Concatenate databases"
   ]
  },
  {
   "cell_type": "code",
   "execution_count": 2,
   "metadata": {},
   "outputs": [],
   "source": [
    "import pandas as pd\n",
    "import numpy as np\n",
    "import os"
   ]
  },
  {
   "cell_type": "code",
   "execution_count": 4,
   "metadata": {},
   "outputs": [],
   "source": [
    "root = r\"C:\\Users\\aleen\\Desktop\\Master Thesis\\Data\\CALENDAR\\\\\"\n",
    "city_category_list = ['amsterdam', 'athens', 'berlin', 'copenhagen', 'london', 'madrid', 'paris', 'prague', 'rome', 'vienna']\n",
    "\n",
    "amsterdam = pd.read_csv(root + city_category_list[0] + \"_calendar.csv\")\n",
    "athens = pd.read_csv(root + city_category_list[1] + \"_calendar.csv\")\n",
    "berlin= pd.read_csv(root + city_category_list[2] + \"_calendar.csv\")\n",
    "copenhagen = pd.read_csv(root + city_category_list[3] + \"_calendar.csv\")\n",
    "london = pd.read_csv(root + city_category_list[4] + \"_calendar.csv\")\n",
    "madrid = pd.read_csv(root + city_category_list[5] + \"_calendar.csv\")\n",
    "paris = pd.read_csv(root + city_category_list[6] + \"_calendar.csv\")\n",
    "prague = pd.read_csv(root + city_category_list[7] + \"_calendar.csv\")\n",
    "rome = pd.read_csv(root + city_category_list[8] + \"_calendar.csv\")\n",
    "vienna = pd.read_csv(root + city_category_list[9] + \"_calendar.csv\")"
   ]
  },
  {
   "cell_type": "code",
   "execution_count": 5,
   "metadata": {},
   "outputs": [],
   "source": [
    "df_list = [amsterdam, athens, berlin, copenhagen, london, madrid, paris, prague, rome, vienna]"
   ]
  },
  {
   "cell_type": "code",
   "execution_count": 6,
   "metadata": {},
   "outputs": [],
   "source": [
    "i = 0\n",
    "for df in df_list:\n",
    "    df['city'] = city_category_list[i]\n",
    "    i += 1"
   ]
  },
  {
   "cell_type": "code",
   "execution_count": 7,
   "metadata": {},
   "outputs": [],
   "source": [
    "def convert_to_euro(amount,currency):\n",
    "    '''\n",
    "    This converter uses no API at the moment. Just need to update the currency rate list.\n",
    "    You input the amount of currency you want to convert and the currency you convert to.\n",
    "    '''\n",
    "    rates = [(0.13,\"DKK\"),(1.10,\"GBP\"),(1.0,\"EUR\"),(0.037,'CZK')]\n",
    "\n",
    "    def getall(my_list, s):\n",
    "        index = [x for x, y in my_list if y==s] # Very versatile. \n",
    "        return (index[0])\n",
    "\n",
    "    rate = getall(rates, currency)\n",
    "    out = amount * rate\n",
    "    return (out)"
   ]
  },
  {
   "cell_type": "code",
   "execution_count": 10,
   "metadata": {},
   "outputs": [],
   "source": [
    "def convert_prices_in_dataframe(df, local_currency):\n",
    "    prices_list = ['average_price']\n",
    "    for p in prices_list:\n",
    "        df[p] = df.apply(lambda x: convert_to_euro(x[p], local_currency), axis=1)"
   ]
  },
  {
   "cell_type": "code",
   "execution_count": 11,
   "metadata": {},
   "outputs": [],
   "source": [
    "convert_prices_in_dataframe(copenhagen, 'DKK')\n",
    "convert_prices_in_dataframe(london, 'GBP')\n",
    "convert_prices_in_dataframe(prague, 'CZK')"
   ]
  },
  {
   "cell_type": "code",
   "execution_count": 12,
   "metadata": {},
   "outputs": [],
   "source": [
    "df_final = pd.concat(df_list, ignore_index=True)"
   ]
  },
  {
   "cell_type": "code",
   "execution_count": 13,
   "metadata": {},
   "outputs": [
    {
     "data": {
      "text/plain": [
       "(17511, 4)"
      ]
     },
     "execution_count": 13,
     "metadata": {},
     "output_type": "execute_result"
    }
   ],
   "source": [
    "df_final.shape"
   ]
  },
  {
   "cell_type": "code",
   "execution_count": 14,
   "metadata": {},
   "outputs": [
    {
     "data": {
      "text/html": [
       "<div>\n",
       "<style scoped>\n",
       "    .dataframe tbody tr th:only-of-type {\n",
       "        vertical-align: middle;\n",
       "    }\n",
       "\n",
       "    .dataframe tbody tr th {\n",
       "        vertical-align: top;\n",
       "    }\n",
       "\n",
       "    .dataframe thead th {\n",
       "        text-align: right;\n",
       "    }\n",
       "</style>\n",
       "<table border=\"1\" class=\"dataframe\">\n",
       "  <thead>\n",
       "    <tr style=\"text-align: right;\">\n",
       "      <th></th>\n",
       "      <th>date</th>\n",
       "      <th>average_price</th>\n",
       "      <th>date.1</th>\n",
       "      <th>city</th>\n",
       "    </tr>\n",
       "  </thead>\n",
       "  <tbody>\n",
       "    <tr>\n",
       "      <th>0</th>\n",
       "      <td>2015-04-05</td>\n",
       "      <td>174.631944</td>\n",
       "      <td>2015-04-05</td>\n",
       "      <td>amsterdam</td>\n",
       "    </tr>\n",
       "    <tr>\n",
       "      <th>1</th>\n",
       "      <td>2015-04-06</td>\n",
       "      <td>160.257013</td>\n",
       "      <td>2015-04-06</td>\n",
       "      <td>amsterdam</td>\n",
       "    </tr>\n",
       "    <tr>\n",
       "      <th>2</th>\n",
       "      <td>2015-04-07</td>\n",
       "      <td>157.153369</td>\n",
       "      <td>2015-04-07</td>\n",
       "      <td>amsterdam</td>\n",
       "    </tr>\n",
       "    <tr>\n",
       "      <th>3</th>\n",
       "      <td>2015-04-08</td>\n",
       "      <td>161.443290</td>\n",
       "      <td>2015-04-08</td>\n",
       "      <td>amsterdam</td>\n",
       "    </tr>\n",
       "    <tr>\n",
       "      <th>4</th>\n",
       "      <td>2015-04-09</td>\n",
       "      <td>159.940822</td>\n",
       "      <td>2015-04-09</td>\n",
       "      <td>amsterdam</td>\n",
       "    </tr>\n",
       "  </tbody>\n",
       "</table>\n",
       "</div>"
      ],
      "text/plain": [
       "         date  average_price      date.1       city\n",
       "0  2015-04-05     174.631944  2015-04-05  amsterdam\n",
       "1  2015-04-06     160.257013  2015-04-06  amsterdam\n",
       "2  2015-04-07     157.153369  2015-04-07  amsterdam\n",
       "3  2015-04-08     161.443290  2015-04-08  amsterdam\n",
       "4  2015-04-09     159.940822  2015-04-09  amsterdam"
      ]
     },
     "execution_count": 14,
     "metadata": {},
     "output_type": "execute_result"
    }
   ],
   "source": [
    "df_final.head()"
   ]
  },
  {
   "cell_type": "code",
   "execution_count": 19,
   "metadata": {},
   "outputs": [
    {
     "data": {
      "text/html": [
       "<div>\n",
       "<style scoped>\n",
       "    .dataframe tbody tr th:only-of-type {\n",
       "        vertical-align: middle;\n",
       "    }\n",
       "\n",
       "    .dataframe tbody tr th {\n",
       "        vertical-align: top;\n",
       "    }\n",
       "\n",
       "    .dataframe thead th {\n",
       "        text-align: right;\n",
       "    }\n",
       "</style>\n",
       "<table border=\"1\" class=\"dataframe\">\n",
       "  <thead>\n",
       "    <tr style=\"text-align: right;\">\n",
       "      <th></th>\n",
       "      <th>date</th>\n",
       "      <th>average_price</th>\n",
       "      <th>date.1</th>\n",
       "      <th>city</th>\n",
       "    </tr>\n",
       "  </thead>\n",
       "  <tbody>\n",
       "    <tr>\n",
       "      <th>8099</th>\n",
       "      <td>2018-07-11</td>\n",
       "      <td>143.102521</td>\n",
       "      <td>2018-07-11</td>\n",
       "      <td>london</td>\n",
       "    </tr>\n",
       "    <tr>\n",
       "      <th>13926</th>\n",
       "      <td>2020-10-23</td>\n",
       "      <td>128.187719</td>\n",
       "      <td>2020-10-23</td>\n",
       "      <td>prague</td>\n",
       "    </tr>\n",
       "    <tr>\n",
       "      <th>3676</th>\n",
       "      <td>2020-09-27</td>\n",
       "      <td>112.557644</td>\n",
       "      <td>2020-09-27</td>\n",
       "      <td>athens</td>\n",
       "    </tr>\n",
       "    <tr>\n",
       "      <th>1363</th>\n",
       "      <td>2018-12-28</td>\n",
       "      <td>782.899752</td>\n",
       "      <td>2018-12-28</td>\n",
       "      <td>amsterdam</td>\n",
       "    </tr>\n",
       "    <tr>\n",
       "      <th>12135</th>\n",
       "      <td>2018-10-23</td>\n",
       "      <td>163.947362</td>\n",
       "      <td>2018-10-23</td>\n",
       "      <td>paris</td>\n",
       "    </tr>\n",
       "  </tbody>\n",
       "</table>\n",
       "</div>"
      ],
      "text/plain": [
       "             date  average_price      date.1       city\n",
       "8099   2018-07-11     143.102521  2018-07-11     london\n",
       "13926  2020-10-23     128.187719  2020-10-23     prague\n",
       "3676   2020-09-27     112.557644  2020-09-27     athens\n",
       "1363   2018-12-28     782.899752  2018-12-28  amsterdam\n",
       "12135  2018-10-23     163.947362  2018-10-23      paris"
      ]
     },
     "execution_count": 19,
     "metadata": {},
     "output_type": "execute_result"
    }
   ],
   "source": [
    "df_final.sample(5)"
   ]
  },
  {
   "cell_type": "code",
   "execution_count": 20,
   "metadata": {},
   "outputs": [],
   "source": [
    "df_final.to_csv(r\"C:\\Users\\aleen\\Desktop\\Master Thesis\\Data\\CALENDAR\\EUROPE_CALENDAR.csv\")"
   ]
  },
  {
   "cell_type": "code",
   "execution_count": null,
   "metadata": {},
   "outputs": [],
   "source": []
  }
 ],
 "metadata": {
  "kernelspec": {
   "display_name": "Python 3",
   "language": "python",
   "name": "python3"
  },
  "language_info": {
   "codemirror_mode": {
    "name": "ipython",
    "version": 3
   },
   "file_extension": ".py",
   "mimetype": "text/x-python",
   "name": "python",
   "nbconvert_exporter": "python",
   "pygments_lexer": "ipython3",
   "version": "3.6.7"
  }
 },
 "nbformat": 4,
 "nbformat_minor": 2
}
